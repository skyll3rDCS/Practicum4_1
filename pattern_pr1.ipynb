{
  "nbformat": 4,
  "nbformat_minor": 0,
  "metadata": {
    "colab": {
      "provenance": []
    },
    "kernelspec": {
      "name": "python3",
      "display_name": "Python 3"
    },
    "language_info": {
      "name": "python"
    }
  },
  "cells": [
    {
      "cell_type": "markdown",
      "metadata": {
        "id": "15820432"
      },
      "source": [
        "## Практикум 1\n",
        "**Исходные данные:**\n",
        "\n",
        "Папка, содержащая неструктурированные текстовые файлы, созданные разными отделами организации.Имя файла должно содержать название отдела.\n",
        "\n",
        "**Результат:**\n",
        "\n",
        "При запуске программы выбирается папка\n",
        "Создается папка \"Прочее\", если она не существует.\n",
        "Из имени файла достается название отдела и файл добавляется в папку отдела. Если такой папки нет, то папка создается.\n",
        "При отсутствии названия отдела, файл помещается в папку \"Прочее\".\n",
        "\n",
        "**Дополнительные задания:**\n",
        "\n",
        "Работа с разными типами файла и дополнительная сортировка в подкатегории по типу файлов. (2 балла)"
      ]
    },
    {
      "cell_type": "code",
      "execution_count": 1,
      "metadata": {
        "id": "218aebec"
      },
      "outputs": [],
      "source": [
        "import os\n",
        "import re\n",
        "import random"
      ]
    },
    {
      "cell_type": "code",
      "execution_count": 2,
      "metadata": {
        "id": "a14b7571"
      },
      "outputs": [],
      "source": [
        "deps = ['Security','Marketing','IT','Development']\n",
        "sign = [' ', '_','-']\n",
        "f_types = ['.txt', '.py', '.json', '.csv']\n",
        "head = ['Test1', 'Test2', 'Test3', 'Test4']\n",
        "file_name = [i + random.choice(sign)+ random.choice(deps)  for i in head]\n",
        "\n",
        "for i in range(len(file_name)):\n",
        "    new_file = open(file_name[i] + random.choice(f_types), \"w\")\n",
        "\n",
        "for i in range(5):\n",
        "    new_file = open(f'{random.choice(head)} Stuff{random.choice(f_types)}', \"w\")"
      ]
    },
    {
      "cell_type": "code",
      "execution_count": 3,
      "metadata": {
        "id": "f13cbbf1"
      },
      "outputs": [],
      "source": [
        "from posix import pathconf\n",
        "exist_files = os.listdir('.')\n",
        "\n",
        "for index, fl in enumerate(exist_files):\n",
        "    if os.path.isfile(fl):                   \n",
        "        p = re.compile(r'(Security|Marketing|IT|Development)')\n",
        "        if p.findall(exist_files[index]) == []: #условия для случая, когда названия директории из р нет       \n",
        "            if not os.path.isdir('Прочее'):     \n",
        "                os.mkdir('Прочее')\n",
        "            f_type = fl.split('.')[1]\n",
        "            if not os.path.isdir('Прочее/' + str(f_type)): #проверяем есть ли папка с типом файла\n",
        "                os.mkdir('Прочее/' + str(f_type))\n",
        "            os.replace(fl,'Прочее/'+str(f_type)+'/'+fl)\n",
        "            \n",
        "        else: # условие для случая, если нашли названия отделов из р\n",
        "            dep = p.findall(exist_files[index])[0]\n",
        "            if not os.path.isdir(str(dep)): # проверка наз-ия отдела в названии файла\n",
        "                os.mkdir(str(dep)) \n",
        "            f_type = fl.split('.')[1]\n",
        "            if not os.path.isdir(str(dep) + '/' + str(f_type)): #проверяем наличие папки с типом файла\n",
        "                os.mkdir(str(dep) + '/' + str(f_type))\n",
        "            os.replace(fl,str(dep)+'/'+str(f_type)+'/'+fl)               "
      ]
    }
  ]
}